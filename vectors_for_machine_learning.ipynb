{
 "cells": [
  {
   "cell_type": "markdown",
   "metadata": {
    "collapsed": true
   },
   "source": [
    "### This notebook introduces you to concepts of vectors for Machine Learning using Numpy libraray. \n",
    "\n",
    "Vectors are array which have magnitude and direction. In a 2-d co-ordinate system they are simply a point having x and y values. \n"
   ]
  },
  {
   "cell_type": "code",
   "execution_count": 8,
   "metadata": {
    "collapsed": true
   },
   "outputs": [],
   "source": [
    "import numpy as np"
   ]
  },
  {
   "cell_type": "code",
   "execution_count": 7,
   "metadata": {
    "collapsed": true
   },
   "outputs": [],
   "source": [
    "v1 = np.array([1,2])"
   ]
  },
  {
   "cell_type": "code",
   "execution_count": 21,
   "metadata": {},
   "outputs": [
    {
     "name": "stdout",
     "output_type": "stream",
     "text": [
      "[1 2]\n",
      "Length of vector=2\n",
      "Shape of vector=(2,)\n"
     ]
    }
   ],
   "source": [
    "print(v1)\n",
    "print('Length of vector={}'.format(len(v1)))\n",
    "print('Shape of vector={}'.format(v1.shape))"
   ]
  },
  {
   "cell_type": "markdown",
   "metadata": {},
   "source": [
    "### Vector Addition\n",
    "\n",
    "Vector addition adds corresponding components from both vectors. Vector addtion doesn't work if shape of two vectors are NOT same. "
   ]
  },
  {
   "cell_type": "code",
   "execution_count": 25,
   "metadata": {},
   "outputs": [],
   "source": [
    "v2 = np.array([4,5])"
   ]
  },
  {
   "cell_type": "code",
   "execution_count": 24,
   "metadata": {},
   "outputs": [
    {
     "data": {
      "text/plain": [
       "array([5, 7])"
      ]
     },
     "execution_count": 24,
     "metadata": {},
     "output_type": "execute_result"
    }
   ],
   "source": [
    "v1+v2"
   ]
  },
  {
   "cell_type": "markdown",
   "metadata": {},
   "source": [
    "### Scalar Multiplication\n",
    "\n",
    "It basically scales all components of the vector by that value; i.e it multiplies all elements of the vector by the scalar. "
   ]
  },
  {
   "cell_type": "code",
   "execution_count": 30,
   "metadata": {},
   "outputs": [
    {
     "data": {
      "text/plain": [
       "array([2, 4])"
      ]
     },
     "execution_count": 30,
     "metadata": {},
     "output_type": "execute_result"
    }
   ],
   "source": [
    "2*v1"
   ]
  },
  {
   "cell_type": "markdown",
   "metadata": {},
   "source": [
    "### Dot Product (or Dot Product)\n",
    "\n",
    "We represent it by placing a dot.\n",
    "\n",
    "A dot product is a scalar value that is the result of an operation of two vectors with the same number of components.  Given two vectors A and B each with n components, the dot product is calculated as:\n",
    "\n",
    "A · B = A1B1 + ... + AnBn\n",
    "\n",
    "The dot product is thus the sum of the products of each component of the two vectors.  For example if A and B were 3D vectors:\n",
    "\n",
    "A · B = A.x * B.x + A.y * B.y + A.z * B.z\n",
    "\n",
    "The values |A| and |B| represent the lengths of vectors A and B, respectively, and Θ is the angle between the two vectors.  The dot product of vectors A and B will have the following relationship to these values:\n",
    "\n",
    "a⋅b=∥a∥∥b∥cosθ\n",
    "\n",
    "That is to say, the dot product of two vectors will be equal to the cosine of the angle between the vectors, times the lengths of each of the vectors."
   ]
  },
  {
   "cell_type": "code",
   "execution_count": 33,
   "metadata": {},
   "outputs": [
    {
     "name": "stdout",
     "output_type": "stream",
     "text": [
      "14\n",
      "Dot product without library =14\n"
     ]
    }
   ],
   "source": [
    "print(v1.dot(v2))\n",
    "print('Dot product without library ={}'.format(v1[0]*v2[0]+v1[1]*v2[1]))"
   ]
  },
  {
   "cell_type": "markdown",
   "metadata": {},
   "source": [
    "#### Dot product of two orthogal vectors is zero\n",
    "\n",
    "Another way to interpret is that both are orthogonal to each other then cosθ will be zero. (i.e. cos90 = 0).\n",
    "Dot product will also be zero if either of the vector is zero vector. \n"
   ]
  },
  {
   "cell_type": "code",
   "execution_count": 35,
   "metadata": {},
   "outputs": [
    {
     "name": "stdout",
     "output_type": "stream",
     "text": [
      "Dot product of orthogonal vectors =0\n"
     ]
    }
   ],
   "source": [
    "v3 = np.array([1,0])\n",
    "v4 = np.array([0,1])\n",
    "\n",
    "print('Dot product of orthogonal vectors ={}'.format(v3.dot(v4)))\n",
    "\n",
    "# |v3| = sqrt(1^2 + 0^2)\n",
    "#print('Dot product using cosine formula ={}'.format(1.1.cos90))"
   ]
  },
  {
   "cell_type": "markdown",
   "metadata": {},
   "source": [
    "### Cross Product\n",
    "\n",
    "a X b=∥a∥∥b∥sinθ\n"
   ]
  },
  {
   "cell_type": "code",
   "execution_count": 38,
   "metadata": {},
   "outputs": [
    {
     "name": "stdout",
     "output_type": "stream",
     "text": [
      "[-3  6 -3]\n"
     ]
    }
   ],
   "source": [
    "v5 = np.array([1,2,3])\n",
    "v6 = np.array([4,5,6])\n",
    "\n",
    "print(np.cross(v5,v6))"
   ]
  }
 ],
 "metadata": {
  "kernelspec": {
   "display_name": "Python 3",
   "language": "python",
   "name": "python3"
  },
  "language_info": {
   "codemirror_mode": {
    "name": "ipython",
    "version": 3
   },
   "file_extension": ".py",
   "mimetype": "text/x-python",
   "name": "python",
   "nbconvert_exporter": "python",
   "pygments_lexer": "ipython3",
   "version": "3.6.5"
  }
 },
 "nbformat": 4,
 "nbformat_minor": 2
}
